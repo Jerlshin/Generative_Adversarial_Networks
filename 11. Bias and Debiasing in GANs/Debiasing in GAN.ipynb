{
 "cells": [
  {
   "cell_type": "markdown",
   "metadata": {},
   "source": [
    "## GANs to Augment and de-bias datasets"
   ]
  },
  {
   "cell_type": "code",
   "execution_count": 3,
   "metadata": {},
   "outputs": [],
   "source": [
    "import numpy as np\n",
    "import matplotlib.pyplot as plt\n",
    "from sklearn import svm\n",
    "\n",
    "np.random.seed(123)"
   ]
  },
  {
   "cell_type": "markdown",
   "metadata": {},
   "source": [
    "### Generating Synthetic Data"
   ]
  },
  {
   "cell_type": "code",
   "execution_count": 4,
   "metadata": {},
   "outputs": [],
   "source": [
    "# Randomly sample 512-dimensional latent vectors.\n",
    "# 6000 samples of 512 dim  \n",
    "z_t0g0 = np.random.normal(0.1, 1, size=(6000, 512))   # contains neither t or g\n",
    "z_t0g1 = np.random.normal(0.2, 1, size=(1000, 512))   # contains g, but not t\n",
    "\n",
    "z_t1g0 = np.random.normal(-0.1, 1, size=(1000, 512))  # contains t, but not g\n",
    "z_t1g1 = np.random.normal(-0.2, 1, size=(2000, 512))  # contains both t and g\n",
    "\n",
    "# Stack everything so that all properties can be indexed from the array.\n",
    "z = np.vstack((z_t0g0, z_t0g1, z_t1g0, z_t1g1))\n",
    "\n",
    "# for target label\n",
    "# Label the examples with whether they contain t.\n",
    "t = np.zeros(10000) \n",
    "t[:7000] = 0 # doesnt have target label\n",
    "t[7000:] = 1\n",
    "\n",
    "# for Protected attribute\n",
    "# Label the examples with whether they contain g.\n",
    "g = np.zeros(10000)\n",
    "g[:6000] = 0\n",
    "g[6000:7000] = 1\n",
    "g[7000:8000] = 0\n",
    "g[8000:] = 1"
   ]
  },
  {
   "cell_type": "code",
   "execution_count": 9,
   "metadata": {},
   "outputs": [
    {
     "data": {
      "image/png": "[encoded data removed]",
      "text/plain": [
       "<Figure size 640x480 with 1 Axes>"
      ]
     },
     "metadata": {},
     "output_type": "display_data"
    }
   ],
   "source": [
    "plt.title('Distribution of t and g')\n",
    "plt.bar(np.arange(2), [np.logical_and(t==0, g==0).sum(), np.logical_and(t==1, g==0).sum()], width=0.3, label='g=0')\n",
    "plt.bar(np.arange(2)+0.3, [np.logical_and(t==0, g==1).sum(), np.logical_and(t==1, g==1).sum()], width=0.3, label='g=1')\n",
    "plt.xticks((0.15, 1.15), ('t=0', 't=1'))\n",
    "plt.legend(loc='best')\n",
    "plt.show()"
   ]
  },
  {
   "cell_type": "markdown",
   "metadata": {},
   "source": [
    "Creating Train/Val/Test dataset"
   ]
  },
  {
   "cell_type": "code",
   "execution_count": 11,
   "metadata": {},
   "outputs": [],
   "source": [
    "# Index of the data\n",
    "train_indices = np.random.choice(10000, size=4000, replace=False)\n",
    "val_indices = np.random.choice(list(set(np.arange(10000))-set(train_indices)), size=1000, replace=False)\n",
    "test_indices = np.array(list(set(np.arange(10000)) - set(train_indices) - set(val_indices)))\n",
    "\n",
    "# getting the real value\n",
    "z_train = z[train_indices]\n",
    "t_train = t[train_indices]\n",
    "g_train = g[train_indices]\n",
    "\n",
    "z_val = z[val_indices]\n",
    "t_val = t[val_indices]\n",
    "g_val = g[val_indices]\n",
    "\n",
    "z_test = z[test_indices]\n",
    "t_test = t[test_indices]\n",
    "g_test = g[test_indices]"
   ]
  },
  {
   "cell_type": "code",
   "execution_count": 12,
   "metadata": {},
   "outputs": [
    {
     "name": "stderr",
     "output_type": "stream",
     "text": [
      "/home/jerlshin/env_ai/lib/python3.10/site-packages/sklearn/svm/_classes.py:32: FutureWarning: The default value of `dual` will change from `True` to `'auto'` in 1.5. Set the value of `dual` explicitly to suppress the warning.\n",
      "  warnings.warn(\n"
     ]
    }
   ],
   "source": [
    "# Fitting a target attribute classifier in the latent space using a linear SVM.\n",
    "h_t = svm.LinearSVC(max_iter=50000)\n",
    "h_t.fit(z_train, t_train)\n",
    "\n",
    "# Normalize so that w_t has norm 1.\n",
    "w_t_norm = np.linalg.norm(h_t.coef_)\n",
    "h_t.coef_ = h_t.coef_ / (w_t_norm)  # w_t\n",
    "h_t.intercept_ = h_t.intercept_ / w_t_norm  # b_t"
   ]
  },
  {
   "cell_type": "code",
   "execution_count": 14,
   "metadata": {},
   "outputs": [
    {
     "name": "stderr",
     "output_type": "stream",
     "text": [
      "/home/jerlshin/env_ai/lib/python3.10/site-packages/sklearn/svm/_classes.py:32: FutureWarning: The default value of `dual` will change from `True` to `'auto'` in 1.5. Set the value of `dual` explicitly to suppress the warning.\n",
      "  warnings.warn(\n"
     ]
    }
   ],
   "source": [
    "# Fit a protected attribute classifier in the latent space using a linear SVM.\n",
    "h_g = svm.LinearSVC(max_iter=50000)\n",
    "h_g.fit(z_train, g_train)\n",
    "\n",
    "# Normalize so that w_g has norm 1.\n",
    "w_g_norm = np.linalg.norm(h_g.coef_)\n",
    "h_g.coef_ = h_g.coef_ / (w_g_norm)\n",
    "h_g.intercept_ = h_g.intercept_ / w_g_norm"
   ]
  },
  {
   "cell_type": "code",
   "execution_count": 15,
   "metadata": {},
   "outputs": [
    {
     "name": "stdout",
     "output_type": "stream",
     "text": [
      "Accuracy of t classification: 98.4%\n",
      "Accuracy of g classification: 80.0%\n"
     ]
    }
   ],
   "source": [
    "# Run inference with h(z) = w^T z + b.\n",
    "t_val_prediction = np.sum(h_t.coef_ * z_val, axis=1) + h_t.intercept_\n",
    "g_val_prediction = np.sum(h_g.coef_ * z_val, axis=1) + h_g.intercept_\n",
    "\n",
    "# Calculate prediction accuracy\n",
    "t_val_correct = np.logical_and(t_val == 1, t_val_prediction >= 0).sum() + np.logical_and(t_val == 0, t_val_prediction < 0).sum()\n",
    "g_val_correct = np.logical_and(g_val == 1, g_val_prediction >= 0).sum() + np.logical_and(g_val == 0, g_val_prediction < 0).sum()\n",
    "print('Accuracy of t classification: {}%'.format(t_val_correct / 1000 * 100))\n",
    "print('Accuracy of g classification: {}%'.format(g_val_correct / 1000 * 100))"
   ]
  },
  {
   "cell_type": "code",
   "execution_count": null,
   "metadata": {},
   "outputs": [],
   "source": []
  }
 ],
 "metadata": {
  "kernelspec": {
   "display_name": "env_ai",
   "language": "python",
   "name": "env_ai"
  },
  "language_info": {
   "codemirror_mode": {
    "name": "ipython",
    "version": 3
   },
   "file_extension": ".py",
   "mimetype": "text/x-python",
   "name": "python",
   "nbconvert_exporter": "python",
   "pygments_lexer": "ipython3",
   "version": "3.10.12"
  }
 },
 "nbformat": 4,
 "nbformat_minor": 2
}
